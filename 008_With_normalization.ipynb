{
 "cells": [
  {
   "cell_type": "code",
   "execution_count": 1,
   "metadata": {},
   "outputs": [],
   "source": [
    "import tensorflow as tf\n",
    "import numpy as np"
   ]
  },
  {
   "cell_type": "code",
   "execution_count": 2,
   "metadata": {},
   "outputs": [
    {
     "name": "stderr",
     "output_type": "stream",
     "text": [
      "Using TensorFlow backend.\n"
     ]
    }
   ],
   "source": [
    "from keras.datasets import imdb"
   ]
  },
  {
   "cell_type": "code",
   "execution_count": 3,
   "metadata": {},
   "outputs": [],
   "source": [
    "#(train_X, train_y), (test_X, test_Y) = imdb.load_data(num_words=10000)\n",
    "\n",
    "#The above line of code does not seem to be working. So I had to do the below code to load the imdb data.\n",
    "\n",
    "# save np.load\n",
    "np_load_old = np.load\n",
    "\n",
    "# modify the default parameters of np.load\n",
    "np.load = lambda *a,**k: np_load_old(*a, allow_pickle=True, **k)\n",
    "\n",
    "# call load_data with allow_pickle implicitly set to true\n",
    "(train_X, train_y), (test_X, test_Y) = imdb.load_data(num_words=10000)\n",
    "\n",
    "# restore np.load for future normal usage\n",
    "np.load = np_load_old"
   ]
  },
  {
   "cell_type": "code",
   "execution_count": 4,
   "metadata": {},
   "outputs": [
    {
     "name": "stdout",
     "output_type": "stream",
     "text": [
      "[1, 14, 22, 16, 43, 530, 973, 1622, 1385, 65, 458, 4468, 66, 3941, 4, 173, 36, 256, 5, 25, 100, 43, 838, 112, 50, 670, 2, 9, 35, 480, 284, 5, 150, 4, 172, 112, 167, 2, 336, 385, 39, 4, 172, 4536, 1111, 17, 546, 38, 13, 447, 4, 192, 50, 16, 6, 147, 2025, 19, 14, 22, 4, 1920, 4613, 469, 4, 22, 71, 87, 12, 16, 43, 530, 38, 76, 15, 13, 1247, 4, 22, 17, 515, 17, 12, 16, 626, 18, 2, 5, 62, 386, 12, 8, 316, 8, 106, 5, 4, 2223, 5244, 16, 480, 66, 3785, 33, 4, 130, 12, 16, 38, 619, 5, 25, 124, 51, 36, 135, 48, 25, 1415, 33, 6, 22, 12, 215, 28, 77, 52, 5, 14, 407, 16, 82, 2, 8, 4, 107, 117, 5952, 15, 256, 4, 2, 7, 3766, 5, 723, 36, 71, 43, 530, 476, 26, 400, 317, 46, 7, 4, 2, 1029, 13, 104, 88, 4, 381, 15, 297, 98, 32, 2071, 56, 26, 141, 6, 194, 7486, 18, 4, 226, 22, 21, 134, 476, 26, 480, 5, 144, 30, 5535, 18, 51, 36, 28, 224, 92, 25, 104, 4, 226, 65, 16, 38, 1334, 88, 12, 16, 283, 5, 16, 4472, 113, 103, 32, 15, 16, 5345, 19, 178, 32]\n"
     ]
    }
   ],
   "source": [
    "#Each review (row) is of different size. This data needs to be made uniform. \n",
    "# i.e. each reviuew (i.e. row) needs to be onehotencoded to a length of 10,000 (we have decided to have only 10000 features)\n",
    "\n",
    "def OneHotEncoding_fn(IMDBData, dimension=10000):\n",
    "    #25k x 10k matrix of zeros\n",
    "    OneHotEncoded_Data = np.zeros((len(IMDBData), dimension)) \n",
    "    for i, sequence in enumerate(IMDBData):\n",
    "        #Selectively make indices as 1 based on availability of word in the review.\n",
    "        OneHotEncoded_Data[i, sequence] = 1.\n",
    "    return OneHotEncoded_Data\n",
    "print(train_X[0])\n",
    "\n",
    "x_train = OneHotEncoding_fn(train_X)\n",
    "x_test = OneHotEncoding_fn(test_X)\n",
    "y_train = np.asarray(train_y).astype('float32')\n",
    "y_test = np.asarray(test_Y).astype('float32')"
   ]
  },
  {
   "cell_type": "code",
   "execution_count": 5,
   "metadata": {},
   "outputs": [
    {
     "name": "stdout",
     "output_type": "stream",
     "text": [
      "WARNING:tensorflow:From C:\\ProgramData\\Anaconda3\\envs\\tensorflow_env\\lib\\site-packages\\tensorflow\\python\\ops\\control_flow_ops.py:423: colocate_with (from tensorflow.python.framework.ops) is deprecated and will be removed in a future version.\n",
      "Instructions for updating:\n",
      "Colocations handled automatically by placer.\n",
      "WARNING:tensorflow:From C:\\ProgramData\\Anaconda3\\envs\\tensorflow_env\\lib\\site-packages\\keras\\backend\\tensorflow_backend.py:3445: calling dropout (from tensorflow.python.ops.nn_ops) with keep_prob is deprecated and will be removed in a future version.\n",
      "Instructions for updating:\n",
      "Please use `rate` instead of `keep_prob`. Rate should be set to `rate = 1 - keep_prob`.\n"
     ]
    }
   ],
   "source": [
    "#create the layers\n",
    "from keras import models\n",
    "from keras import layers\n",
    "from keras import regularizers\n",
    "from keras.layers import Activation\n",
    "\n",
    "model = models.Sequential()\n",
    "#Layer 1\n",
    "model.add(layers.Dropout(0.55, input_shape=(10000,)))\n",
    "model.add(layers.Dense(32, kernel_initializer='he_uniform'))\n",
    "model.add(layers.BatchNormalization(axis=-1, momentum=0.99, epsilon=0.00001, center=True, scale=True, beta_initializer='zeros', gamma_initializer='ones', moving_mean_initializer='zeros', moving_variance_initializer='ones', beta_regularizer=None, gamma_regularizer=None, beta_constraint=None, gamma_constraint=None))\n",
    "model.add(layers.ReLU())\n",
    "#model.add(layers.LeakyReLU(alpha=0.3))\n",
    "#model.add(layers.ELU(alpha=1.0))\n",
    "\n",
    "#Layer 2\n",
    "model.add(layers.Dropout(0.55))\n",
    "model.add(layers.Dense(32, kernel_initializer='he_uniform'))\n",
    "model.add(layers.BatchNormalization(axis=-1, momentum=0.99, epsilon=0.00001, center=True, scale=True, beta_initializer='zeros', gamma_initializer='ones', moving_mean_initializer='zeros', moving_variance_initializer='ones', beta_regularizer=None, gamma_regularizer=None, beta_constraint=None, gamma_constraint=None))\n",
    "model.add(layers.ReLU())\n",
    "#model.add(layers.LeakyReLU(alpha=0.3))\n",
    "#model.add(layers.ELU(alpha=1.0))\n",
    "\n",
    "#model.add(layers.Dropout(0.5))\n",
    "model.add(layers.Dense(1, activation='tanh'))\n"
   ]
  },
  {
   "cell_type": "code",
   "execution_count": 6,
   "metadata": {},
   "outputs": [
    {
     "name": "stdout",
     "output_type": "stream",
     "text": [
      "WARNING:tensorflow:From C:\\ProgramData\\Anaconda3\\envs\\tensorflow_env\\lib\\site-packages\\tensorflow\\python\\ops\\math_ops.py:3066: to_int32 (from tensorflow.python.ops.math_ops) is deprecated and will be removed in a future version.\n",
      "Instructions for updating:\n",
      "Use tf.cast instead.\n",
      "Train on 20000 samples, validate on 5000 samples\n",
      "Epoch 1/25\n",
      "20000/20000 [==============================] - 11s 538us/step - loss: 1.3717 - binary_accuracy: 0.5245 - val_loss: 2.3273 - val_binary_accuracy: 0.5270\n",
      "Epoch 2/25\n",
      "20000/20000 [==============================] - 8s 406us/step - loss: 0.9340 - binary_accuracy: 0.5755 - val_loss: 0.8296 - val_binary_accuracy: 0.7078\n",
      "Epoch 3/25\n",
      "20000/20000 [==============================] - 8s 378us/step - loss: 0.7610 - binary_accuracy: 0.6350 - val_loss: 0.8318 - val_binary_accuracy: 0.7516\n",
      "Epoch 4/25\n",
      "20000/20000 [==============================] - 8s 375us/step - loss: 0.6802 - binary_accuracy: 0.6676 - val_loss: 0.6833 - val_binary_accuracy: 0.7742\n",
      "Epoch 5/25\n",
      "20000/20000 [==============================] - 8s 389us/step - loss: 0.6616 - binary_accuracy: 0.6828 - val_loss: 0.5191 - val_binary_accuracy: 0.7522\n",
      "Epoch 6/25\n",
      "20000/20000 [==============================] - 9s 427us/step - loss: 0.6707 - binary_accuracy: 0.6652 - val_loss: 0.4752 - val_binary_accuracy: 0.7944\n",
      "Epoch 7/25\n",
      "20000/20000 [==============================] - 8s 398us/step - loss: 0.6452 - binary_accuracy: 0.6815 - val_loss: 0.5153 - val_binary_accuracy: 0.7840\n",
      "Epoch 8/25\n",
      "20000/20000 [==============================] - 8s 376us/step - loss: 0.6281 - binary_accuracy: 0.7033 - val_loss: 0.6177 - val_binary_accuracy: 0.7632\n",
      "Epoch 9/25\n",
      "20000/20000 [==============================] - 7s 368us/step - loss: 0.5962 - binary_accuracy: 0.7181 - val_loss: 0.7505 - val_binary_accuracy: 0.7468\n",
      "Epoch 10/25\n",
      "20000/20000 [==============================] - 9s 451us/step - loss: 0.6029 - binary_accuracy: 0.7244 - val_loss: 0.7085 - val_binary_accuracy: 0.7672\n",
      "Epoch 11/25\n",
      "20000/20000 [==============================] - 9s 445us/step - loss: 0.6000 - binary_accuracy: 0.7127 - val_loss: 0.4966 - val_binary_accuracy: 0.8224\n",
      "Epoch 12/25\n",
      "20000/20000 [==============================] - 9s 425us/step - loss: 0.5851 - binary_accuracy: 0.7226 - val_loss: 0.5404 - val_binary_accuracy: 0.7878\n",
      "Epoch 13/25\n",
      "20000/20000 [==============================] - 8s 377us/step - loss: 0.5765 - binary_accuracy: 0.7349 - val_loss: 0.5344 - val_binary_accuracy: 0.7770\n",
      "Epoch 14/25\n",
      "20000/20000 [==============================] - 8s 394us/step - loss: 0.5514 - binary_accuracy: 0.7521 - val_loss: 0.5657 - val_binary_accuracy: 0.7642\n",
      "Epoch 15/25\n",
      "20000/20000 [==============================] - 8s 383us/step - loss: 0.5303 - binary_accuracy: 0.7602 - val_loss: 0.5084 - val_binary_accuracy: 0.7994\n",
      "Epoch 16/25\n",
      "20000/20000 [==============================] - 8s 382us/step - loss: 0.5416 - binary_accuracy: 0.7675 - val_loss: 0.5195 - val_binary_accuracy: 0.7992\n",
      "Epoch 17/25\n",
      "20000/20000 [==============================] - 8s 382us/step - loss: 0.5264 - binary_accuracy: 0.7778 - val_loss: 0.5284 - val_binary_accuracy: 0.7992\n",
      "Epoch 18/25\n",
      "20000/20000 [==============================] - 8s 405us/step - loss: 0.5222 - binary_accuracy: 0.7846 - val_loss: 0.5095 - val_binary_accuracy: 0.8202\n",
      "Epoch 19/25\n",
      "20000/20000 [==============================] - 8s 399us/step - loss: 0.5116 - binary_accuracy: 0.7863 - val_loss: 0.5040 - val_binary_accuracy: 0.8248\n",
      "Epoch 20/25\n",
      "20000/20000 [==============================] - 8s 381us/step - loss: 0.5124 - binary_accuracy: 0.7852 - val_loss: 0.5085 - val_binary_accuracy: 0.8138\n",
      "Epoch 21/25\n",
      "20000/20000 [==============================] - 8s 382us/step - loss: 0.5331 - binary_accuracy: 0.7644 - val_loss: 0.4470 - val_binary_accuracy: 0.8046\n",
      "Epoch 22/25\n",
      "20000/20000 [==============================] - 8s 396us/step - loss: 0.5062 - binary_accuracy: 0.7684 - val_loss: 0.4338 - val_binary_accuracy: 0.8218\n",
      "Epoch 23/25\n",
      "20000/20000 [==============================] - 8s 393us/step - loss: 0.5048 - binary_accuracy: 0.7802 - val_loss: 0.4201 - val_binary_accuracy: 0.8304\n",
      "Epoch 24/25\n",
      "20000/20000 [==============================] - 8s 383us/step - loss: 0.4959 - binary_accuracy: 0.7863 - val_loss: 0.4234 - val_binary_accuracy: 0.8312\n",
      "Epoch 25/25\n",
      "20000/20000 [==============================] - 9s 456us/step - loss: 0.4902 - binary_accuracy: 0.7864 - val_loss: 0.4653 - val_binary_accuracy: 0.8242\n"
     ]
    }
   ],
   "source": [
    "from keras import optimizers\n",
    "from keras import losses\n",
    "from keras import metrics\n",
    "\n",
    "X_validation = x_train[:5000]\n",
    "X_train_without_val = x_train[5000:]\n",
    "y_validation = y_train[:5000]\n",
    "y_train_without_val = y_train[5000:]\n",
    "\n",
    "\n",
    "#model.compile(optimizer=optimizers.RMSprop(lr=0.001, rho=0.9),\n",
    "#model.compile(optimizer=optimizers.SGD(lr=0.01, momentum=0.9, decay=0.0, nesterov=False),  #Momentum\n",
    "#model.compile(optimizer=optimizers.SGD(lr=0.01, momentum=0.9, decay=0.0, nesterov=True),   #Nesterov\n",
    "#model.compile(optimizer=optimizers.Adagrad(lr=0.01, epsilon=None, decay=0.0),              #Adagrad\n",
    "model.compile(optimizers.Adam(lr=0.001, beta_1=0.9, beta_2=0.999, epsilon=None, decay=0.0, amsgrad=False), #Adam\n",
    "             loss=losses.binary_crossentropy,\n",
    "             metrics=[metrics.binary_accuracy])\n",
    "\n",
    "history = model.fit(X_train_without_val,\n",
    "                    y_train_without_val,\n",
    "                    epochs=25,\n",
    "                    batch_size=512,\n",
    "                    validation_data=(X_validation,y_validation))\n"
   ]
  },
  {
   "cell_type": "code",
   "execution_count": 9,
   "metadata": {},
   "outputs": [
    {
     "data": {
      "image/png": "[encoded data removed]",
      "text/plain": [
       "<Figure size 432x288 with 1 Axes>"
      ]
     },
     "metadata": {
      "needs_background": "light"
     },
     "output_type": "display_data"
    }
   ],
   "source": [
    "import matplotlib.pyplot as plt\n",
    "\n",
    "history_dict = history.history\n",
    "loss_values = history_dict['loss']\n",
    "val_loss_values = history_dict['val_loss']\n",
    "\n",
    "epochs = range(1, 25 + 1)\n",
    "\n",
    "plt.plot(epochs, loss_values, 'g--', label='Training loss')\n",
    "plt.plot(epochs, val_loss_values, 'r', label='Validation loss')\n",
    "plt.title('Training and validation loss')\n",
    "plt.xlabel('Epochs')\n",
    "plt.ylabel('Loss')\n",
    "plt.legend()\n",
    "\n",
    "plt.show()\n"
   ]
  },
  {
   "cell_type": "code",
   "execution_count": 8,
   "metadata": {},
   "outputs": [
    {
     "data": {
      "image/png": "[encoded data removed]",
      "text/plain": [
       "<Figure size 432x288 with 1 Axes>"
      ]
     },
     "metadata": {
      "needs_background": "light"
     },
     "output_type": "display_data"
    }
   ],
   "source": [
    "plt.clf()\n",
    "acc_values = history_dict['binary_accuracy']\n",
    "val_acc_values = history_dict['val_binary_accuracy']\n",
    "plt.plot(epochs, acc_values, 'g--', label='Training Accuracy')\n",
    "plt.plot(epochs, val_acc_values, 'r', label='Validation Accuracy')\n",
    "plt.title('Training and validation accuracy')\n",
    "plt.xlabel('Epochs')\n",
    "plt.ylabel('Accuracy')\n",
    "plt.legend()\n",
    "plt.show()"
   ]
  },
  {
   "cell_type": "code",
   "execution_count": null,
   "metadata": {},
   "outputs": [],
   "source": []
  }
 ],
 "metadata": {
  "kernelspec": {
   "display_name": "Python 3",
   "language": "python",
   "name": "python3"
  },
  "language_info": {
   "codemirror_mode": {
    "name": "ipython",
    "version": 3
   },
   "file_extension": ".py",
   "mimetype": "text/x-python",
   "name": "python",
   "nbconvert_exporter": "python",
   "pygments_lexer": "ipython3",
   "version": "3.7.3"
  }
 },
 "nbformat": 4,
 "nbformat_minor": 2
}
