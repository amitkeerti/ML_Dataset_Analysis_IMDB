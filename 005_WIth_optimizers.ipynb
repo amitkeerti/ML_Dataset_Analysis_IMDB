{
 "cells": [
  {
   "cell_type": "code",
   "execution_count": 1,
   "metadata": {},
   "outputs": [],
   "source": [
    "import tensorflow as tf\n",
    "import numpy as np"
   ]
  },
  {
   "cell_type": "code",
   "execution_count": 2,
   "metadata": {},
   "outputs": [
    {
     "name": "stderr",
     "output_type": "stream",
     "text": [
      "Using TensorFlow backend.\n"
     ]
    }
   ],
   "source": [
    "from keras.datasets import imdb"
   ]
  },
  {
   "cell_type": "code",
   "execution_count": 3,
   "metadata": {},
   "outputs": [],
   "source": [
    "#(train_X, train_y), (test_X, test_Y) = imdb.load_data(num_words=10000)\n",
    "\n",
    "#The above line of code does not seem to be working. So I had to do the below code to load the imdb data.\n",
    "\n",
    "# save np.load\n",
    "np_load_old = np.load\n",
    "\n",
    "# modify the default parameters of np.load\n",
    "np.load = lambda *a,**k: np_load_old(*a, allow_pickle=True, **k)\n",
    "\n",
    "# call load_data with allow_pickle implicitly set to true\n",
    "(train_X, train_y), (test_X, test_Y) = imdb.load_data(num_words=10000)\n",
    "\n",
    "# restore np.load for future normal usage\n",
    "np.load = np_load_old"
   ]
  },
  {
   "cell_type": "code",
   "execution_count": 4,
   "metadata": {},
   "outputs": [
    {
     "name": "stdout",
     "output_type": "stream",
     "text": [
      "[1, 14, 22, 16, 43, 530, 973, 1622, 1385, 65, 458, 4468, 66, 3941, 4, 173, 36, 256, 5, 25, 100, 43, 838, 112, 50, 670, 2, 9, 35, 480, 284, 5, 150, 4, 172, 112, 167, 2, 336, 385, 39, 4, 172, 4536, 1111, 17, 546, 38, 13, 447, 4, 192, 50, 16, 6, 147, 2025, 19, 14, 22, 4, 1920, 4613, 469, 4, 22, 71, 87, 12, 16, 43, 530, 38, 76, 15, 13, 1247, 4, 22, 17, 515, 17, 12, 16, 626, 18, 2, 5, 62, 386, 12, 8, 316, 8, 106, 5, 4, 2223, 5244, 16, 480, 66, 3785, 33, 4, 130, 12, 16, 38, 619, 5, 25, 124, 51, 36, 135, 48, 25, 1415, 33, 6, 22, 12, 215, 28, 77, 52, 5, 14, 407, 16, 82, 2, 8, 4, 107, 117, 5952, 15, 256, 4, 2, 7, 3766, 5, 723, 36, 71, 43, 530, 476, 26, 400, 317, 46, 7, 4, 2, 1029, 13, 104, 88, 4, 381, 15, 297, 98, 32, 2071, 56, 26, 141, 6, 194, 7486, 18, 4, 226, 22, 21, 134, 476, 26, 480, 5, 144, 30, 5535, 18, 51, 36, 28, 224, 92, 25, 104, 4, 226, 65, 16, 38, 1334, 88, 12, 16, 283, 5, 16, 4472, 113, 103, 32, 15, 16, 5345, 19, 178, 32]\n"
     ]
    }
   ],
   "source": [
    "#Each review (row) is of different size. This data needs to be made uniform. \n",
    "# i.e. each reviuew (i.e. row) needs to be onehotencoded to a length of 10,000 (we have decided to have only 10000 features)\n",
    "\n",
    "def OneHotEncoding_fn(IMDBData, dimension=10000):\n",
    "    #25k x 10k matrix of zeros\n",
    "    OneHotEncoded_Data = np.zeros((len(IMDBData), dimension)) \n",
    "    for i, sequence in enumerate(IMDBData):\n",
    "        #Selectively make indices as 1 based on availability of word in the review.\n",
    "        OneHotEncoded_Data[i, sequence] = 1.\n",
    "    return OneHotEncoded_Data\n",
    "print(train_X[0])\n",
    "\n",
    "x_train = OneHotEncoding_fn(train_X)\n",
    "x_test = OneHotEncoding_fn(test_X)\n",
    "y_train = np.asarray(train_y).astype('float32')\n",
    "y_test = np.asarray(test_Y).astype('float32')"
   ]
  },
  {
   "cell_type": "code",
   "execution_count": 5,
   "metadata": {},
   "outputs": [
    {
     "name": "stdout",
     "output_type": "stream",
     "text": [
      "WARNING:tensorflow:From C:\\ProgramData\\Anaconda3\\envs\\tensorflow_env\\lib\\site-packages\\tensorflow\\python\\ops\\control_flow_ops.py:423: colocate_with (from tensorflow.python.framework.ops) is deprecated and will be removed in a future version.\n",
      "Instructions for updating:\n",
      "Colocations handled automatically by placer.\n",
      "WARNING:tensorflow:From C:\\ProgramData\\Anaconda3\\envs\\tensorflow_env\\lib\\site-packages\\keras\\backend\\tensorflow_backend.py:3445: calling dropout (from tensorflow.python.ops.nn_ops) with keep_prob is deprecated and will be removed in a future version.\n",
      "Instructions for updating:\n",
      "Please use `rate` instead of `keep_prob`. Rate should be set to `rate = 1 - keep_prob`.\n"
     ]
    }
   ],
   "source": [
    "#create the layers\n",
    "from keras import models\n",
    "from keras import layers\n",
    "from keras import regularizers\n",
    "\n",
    "model = models.Sequential()\n",
    "model.add(layers.Dropout(0.55, input_shape=(10000,)))\n",
    "model.add(layers.Dense(32, activation='relu'))\n",
    "model.add(layers.Dropout(0.55))\n",
    "model.add(layers.Dense(32, activation='relu'))\n",
    "#model.add(layers.Dropout(0.5))\n",
    "model.add(layers.Dense(1, activation='sigmoid'))"
   ]
  },
  {
   "cell_type": "code",
   "execution_count": 6,
   "metadata": {},
   "outputs": [
    {
     "name": "stdout",
     "output_type": "stream",
     "text": [
      "WARNING:tensorflow:From C:\\ProgramData\\Anaconda3\\envs\\tensorflow_env\\lib\\site-packages\\tensorflow\\python\\ops\\math_ops.py:3066: to_int32 (from tensorflow.python.ops.math_ops) is deprecated and will be removed in a future version.\n",
      "Instructions for updating:\n",
      "Use tf.cast instead.\n",
      "Train on 20000 samples, validate on 5000 samples\n",
      "Epoch 1/25\n",
      "20000/20000 [==============================] - 19s 971us/step - loss: 0.6416 - binary_accuracy: 0.6317 - val_loss: 0.4724 - val_binary_accuracy: 0.8338\n",
      "Epoch 2/25\n",
      "20000/20000 [==============================] - 9s 451us/step - loss: 0.4695 - binary_accuracy: 0.7884 - val_loss: 0.3306 - val_binary_accuracy: 0.8734\n",
      "Epoch 3/25\n",
      "20000/20000 [==============================] - 8s 388us/step - loss: 0.3987 - binary_accuracy: 0.8312 - val_loss: 0.3063 - val_binary_accuracy: 0.8806\n",
      "Epoch 4/25\n",
      "20000/20000 [==============================] - 8s 379us/step - loss: 0.3580 - binary_accuracy: 0.8487 - val_loss: 0.2818 - val_binary_accuracy: 0.8860\n",
      "Epoch 5/25\n",
      "20000/20000 [==============================] - 8s 389us/step - loss: 0.3447 - binary_accuracy: 0.8562 - val_loss: 0.2793 - val_binary_accuracy: 0.8908\n",
      "Epoch 6/25\n",
      "20000/20000 [==============================] - 7s 369us/step - loss: 0.3265 - binary_accuracy: 0.8596 - val_loss: 0.2687 - val_binary_accuracy: 0.8894\n",
      "Epoch 7/25\n",
      "20000/20000 [==============================] - 8s 383us/step - loss: 0.3200 - binary_accuracy: 0.8655 - val_loss: 0.2697 - val_binary_accuracy: 0.8906\n",
      "Epoch 8/25\n",
      "20000/20000 [==============================] - 7s 370us/step - loss: 0.3121 - binary_accuracy: 0.8691 - val_loss: 0.2655 - val_binary_accuracy: 0.8920\n",
      "Epoch 9/25\n",
      "20000/20000 [==============================] - 8s 380us/step - loss: 0.3036 - binary_accuracy: 0.8700 - val_loss: 0.2633 - val_binary_accuracy: 0.8898\n",
      "Epoch 10/25\n",
      "20000/20000 [==============================] - 8s 385us/step - loss: 0.3020 - binary_accuracy: 0.8715 - val_loss: 0.2655 - val_binary_accuracy: 0.8932\n",
      "Epoch 11/25\n",
      "20000/20000 [==============================] - 8s 378us/step - loss: 0.2927 - binary_accuracy: 0.8778 - val_loss: 0.2668 - val_binary_accuracy: 0.8886\n",
      "Epoch 12/25\n",
      "20000/20000 [==============================] - 7s 360us/step - loss: 0.2883 - binary_accuracy: 0.8771 - val_loss: 0.2626 - val_binary_accuracy: 0.8958\n",
      "Epoch 13/25\n",
      "20000/20000 [==============================] - 8s 392us/step - loss: 0.2892 - binary_accuracy: 0.8750 - val_loss: 0.2659 - val_binary_accuracy: 0.8894\n",
      "Epoch 14/25\n",
      "20000/20000 [==============================] - 7s 367us/step - loss: 0.2818 - binary_accuracy: 0.8809 - val_loss: 0.2666 - val_binary_accuracy: 0.8916\n",
      "Epoch 15/25\n",
      "20000/20000 [==============================] - 7s 375us/step - loss: 0.2837 - binary_accuracy: 0.8797 - val_loss: 0.2642 - val_binary_accuracy: 0.8906\n",
      "Epoch 16/25\n",
      "20000/20000 [==============================] - 8s 396us/step - loss: 0.2755 - binary_accuracy: 0.8849 - val_loss: 0.2644 - val_binary_accuracy: 0.8924\n",
      "Epoch 17/25\n",
      "20000/20000 [==============================] - 7s 370us/step - loss: 0.2757 - binary_accuracy: 0.8806 - val_loss: 0.2633 - val_binary_accuracy: 0.8928\n",
      "Epoch 18/25\n",
      "20000/20000 [==============================] - 7s 370us/step - loss: 0.2717 - binary_accuracy: 0.8817 - val_loss: 0.2649 - val_binary_accuracy: 0.8928\n",
      "Epoch 19/25\n",
      "20000/20000 [==============================] - 8s 378us/step - loss: 0.2701 - binary_accuracy: 0.8847 - val_loss: 0.2668 - val_binary_accuracy: 0.8916\n",
      "Epoch 20/25\n",
      "20000/20000 [==============================] - 7s 368us/step - loss: 0.2693 - binary_accuracy: 0.8854 - val_loss: 0.2660 - val_binary_accuracy: 0.8938\n",
      "Epoch 21/25\n",
      "20000/20000 [==============================] - 8s 379us/step - loss: 0.2710 - binary_accuracy: 0.8847 - val_loss: 0.2665 - val_binary_accuracy: 0.8960\n",
      "Epoch 22/25\n",
      "20000/20000 [==============================] - 8s 383us/step - loss: 0.2685 - binary_accuracy: 0.8840 - val_loss: 0.2681 - val_binary_accuracy: 0.8922\n",
      "Epoch 23/25\n",
      "20000/20000 [==============================] - 9s 428us/step - loss: 0.2662 - binary_accuracy: 0.8858 - val_loss: 0.2655 - val_binary_accuracy: 0.8916\n",
      "Epoch 24/25\n",
      "20000/20000 [==============================] - 8s 405us/step - loss: 0.2622 - binary_accuracy: 0.8846 - val_loss: 0.2654 - val_binary_accuracy: 0.8916\n",
      "Epoch 25/25\n",
      "20000/20000 [==============================] - 8s 410us/step - loss: 0.2639 - binary_accuracy: 0.8860 - val_loss: 0.2706 - val_binary_accuracy: 0.8900\n"
     ]
    }
   ],
   "source": [
    "from keras import optimizers\n",
    "from keras import losses\n",
    "from keras import metrics\n",
    "\n",
    "X_validation = x_train[:5000]\n",
    "X_train_without_val = x_train[5000:]\n",
    "y_validation = y_train[:5000]\n",
    "y_train_without_val = y_train[5000:]\n",
    "\n",
    "\n",
    "#model.compile(optimizer=optimizers.RMSprop(lr=0.001, rho=0.9),\n",
    "#model.compile(optimizer=optimizers.SGD(lr=0.01, momentum=0.9, decay=0.0, nesterov=False),  #Momentum\n",
    "#model.compile(optimizer=optimizers.SGD(lr=0.01, momentum=0.9, decay=0.0, nesterov=True),   #Nesterov\n",
    "#model.compile(optimizer=optimizers.Adagrad(lr=0.01, epsilon=None, decay=0.0),              #Adagrad\n",
    "model.compile(optimizers.Adam(lr=0.001, beta_1=0.9, beta_2=0.999, epsilon=None, decay=0.0, amsgrad=False), #Adam\n",
    "             loss=losses.binary_crossentropy,\n",
    "             metrics=[metrics.binary_accuracy])\n",
    "\n",
    "history = model.fit(X_train_without_val,\n",
    "                    y_train_without_val,\n",
    "                    epochs=25,\n",
    "                    batch_size=512,\n",
    "                    validation_data=(X_validation,y_validation))\n"
   ]
  },
  {
   "cell_type": "code",
   "execution_count": 9,
   "metadata": {},
   "outputs": [
    {
     "data": {
      "image/png": "[encoded data removed]",
      "text/plain": [
       "<Figure size 432x288 with 1 Axes>"
      ]
     },
     "metadata": {
      "needs_background": "light"
     },
     "output_type": "display_data"
    }
   ],
   "source": [
    "import matplotlib.pyplot as plt\n",
    "\n",
    "history_dict = history.history\n",
    "loss_values = history_dict['loss']\n",
    "val_loss_values = history_dict['val_loss']\n",
    "\n",
    "epochs = range(1, 25 + 1)\n",
    "\n",
    "plt.plot(epochs, loss_values, 'g--', label='Training loss')\n",
    "plt.plot(epochs, val_loss_values, 'r', label='Validation loss')\n",
    "plt.title('Training and validation loss')\n",
    "plt.xlabel('Epochs')\n",
    "plt.ylabel('Loss')\n",
    "plt.legend()\n",
    "\n",
    "plt.show()\n"
   ]
  },
  {
   "cell_type": "code",
   "execution_count": 8,
   "metadata": {},
   "outputs": [
    {
     "data": {
      "image/png": "[encoded data removed]",
      "text/plain": [
       "<Figure size 432x288 with 1 Axes>"
      ]
     },
     "metadata": {
      "needs_background": "light"
     },
     "output_type": "display_data"
    }
   ],
   "source": [
    "plt.clf()\n",
    "acc_values = history_dict['binary_accuracy']\n",
    "val_acc_values = history_dict['val_binary_accuracy']\n",
    "plt.plot(epochs, acc_values, 'g--', label='Training Accuracy')\n",
    "plt.plot(epochs, val_acc_values, 'r', label='Validation Accuracy')\n",
    "plt.title('Training and validation accuracy')\n",
    "plt.xlabel('Epochs')\n",
    "plt.ylabel('Accuracy')\n",
    "plt.legend()\n",
    "plt.show()"
   ]
  },
  {
   "cell_type": "code",
   "execution_count": null,
   "metadata": {},
   "outputs": [],
   "source": []
  }
 ],
 "metadata": {
  "kernelspec": {
   "display_name": "Python 3",
   "language": "python",
   "name": "python3"
  },
  "language_info": {
   "codemirror_mode": {
    "name": "ipython",
    "version": 3
   },
   "file_extension": ".py",
   "mimetype": "text/x-python",
   "name": "python",
   "nbconvert_exporter": "python",
   "pygments_lexer": "ipython3",
   "version": "3.7.3"
  }
 },
 "nbformat": 4,
 "nbformat_minor": 2
}
