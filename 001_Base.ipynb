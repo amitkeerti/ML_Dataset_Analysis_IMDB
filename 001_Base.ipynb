{
 "cells": [
  {
   "cell_type": "code",
   "execution_count": 1,
   "metadata": {},
   "outputs": [],
   "source": [
    "import tensorflow as tf\n",
    "import numpy as np"
   ]
  },
  {
   "cell_type": "code",
   "execution_count": 2,
   "metadata": {},
   "outputs": [
    {
     "name": "stderr",
     "output_type": "stream",
     "text": [
      "Using TensorFlow backend.\n"
     ]
    }
   ],
   "source": [
    "from keras.datasets import imdb"
   ]
  },
  {
   "cell_type": "code",
   "execution_count": 3,
   "metadata": {},
   "outputs": [],
   "source": [
    "#(train_X, train_y), (test_X, test_Y) = imdb.load_data(num_words=10000)\n",
    "\n",
    "#The above line of code does not seem to be working. So I had to do the below code to load the imdb data.\n",
    "\n",
    "# save np.load\n",
    "np_load_old = np.load\n",
    "\n",
    "# modify the default parameters of np.load\n",
    "np.load = lambda *a,**k: np_load_old(*a, allow_pickle=True, **k)\n",
    "\n",
    "# call load_data with allow_pickle implicitly set to true\n",
    "(train_X, train_y), (test_X, test_Y) = imdb.load_data(num_words=10000)\n",
    "\n",
    "# restore np.load for future normal usage\n",
    "np.load = np_load_old"
   ]
  },
  {
   "cell_type": "code",
   "execution_count": 4,
   "metadata": {},
   "outputs": [
    {
     "name": "stdout",
     "output_type": "stream",
     "text": [
      "[1, 14, 22, 16, 43, 530, 973, 1622, 1385, 65, 458, 4468, 66, 3941, 4, 173, 36, 256, 5, 25, 100, 43, 838, 112, 50, 670, 2, 9, 35, 480, 284, 5, 150, 4, 172, 112, 167, 2, 336, 385, 39, 4, 172, 4536, 1111, 17, 546, 38, 13, 447, 4, 192, 50, 16, 6, 147, 2025, 19, 14, 22, 4, 1920, 4613, 469, 4, 22, 71, 87, 12, 16, 43, 530, 38, 76, 15, 13, 1247, 4, 22, 17, 515, 17, 12, 16, 626, 18, 2, 5, 62, 386, 12, 8, 316, 8, 106, 5, 4, 2223, 5244, 16, 480, 66, 3785, 33, 4, 130, 12, 16, 38, 619, 5, 25, 124, 51, 36, 135, 48, 25, 1415, 33, 6, 22, 12, 215, 28, 77, 52, 5, 14, 407, 16, 82, 2, 8, 4, 107, 117, 5952, 15, 256, 4, 2, 7, 3766, 5, 723, 36, 71, 43, 530, 476, 26, 400, 317, 46, 7, 4, 2, 1029, 13, 104, 88, 4, 381, 15, 297, 98, 32, 2071, 56, 26, 141, 6, 194, 7486, 18, 4, 226, 22, 21, 134, 476, 26, 480, 5, 144, 30, 5535, 18, 51, 36, 28, 224, 92, 25, 104, 4, 226, 65, 16, 38, 1334, 88, 12, 16, 283, 5, 16, 4472, 113, 103, 32, 15, 16, 5345, 19, 178, 32]\n"
     ]
    }
   ],
   "source": [
    "#Each review (row) is of different size. This data needs to be made uniform. \n",
    "# i.e. each reviuew (i.e. row) needs to be onehotencoded to a length of 10,000 (we have decided to have only 10000 features)\n",
    "\n",
    "def OneHotEncoding_fn(IMDBData, dimension=10000):\n",
    "    #25k x 10k matrix of zeros\n",
    "    OneHotEncoded_Data = np.zeros((len(IMDBData), dimension)) \n",
    "    for i, sequence in enumerate(IMDBData):\n",
    "        #Selectively make indices as 1 based on availability of word in the review.\n",
    "        OneHotEncoded_Data[i, sequence] = 1.\n",
    "    return OneHotEncoded_Data\n",
    "print(train_X[0])\n",
    "\n",
    "x_train = OneHotEncoding_fn(train_X)\n",
    "x_test = OneHotEncoding_fn(test_X)\n",
    "y_train = np.asarray(train_y).astype('float32')\n",
    "y_test = np.asarray(test_Y).astype('float32')"
   ]
  },
  {
   "cell_type": "code",
   "execution_count": 5,
   "metadata": {},
   "outputs": [
    {
     "name": "stdout",
     "output_type": "stream",
     "text": [
      "WARNING:tensorflow:From C:\\ProgramData\\Anaconda3\\envs\\tensorflow_env\\lib\\site-packages\\tensorflow\\python\\framework\\op_def_library.py:263: colocate_with (from tensorflow.python.framework.ops) is deprecated and will be removed in a future version.\n",
      "Instructions for updating:\n",
      "Colocations handled automatically by placer.\n"
     ]
    }
   ],
   "source": [
    "#create the layers\n",
    "#import keras as keras\n",
    "from keras import models\n",
    "from keras import layers\n",
    "\n",
    "model = models.Sequential()\n",
    "model.add(layers.Dense(32, activation='relu', input_shape=(10000,)))\n",
    "model.add(layers.Dense(32, activation='relu'))\n",
    "model.add(layers.Dense(1, activation='sigmoid'))"
   ]
  },
  {
   "cell_type": "code",
   "execution_count": 6,
   "metadata": {},
   "outputs": [
    {
     "name": "stdout",
     "output_type": "stream",
     "text": [
      "WARNING:tensorflow:From C:\\ProgramData\\Anaconda3\\envs\\tensorflow_env\\lib\\site-packages\\tensorflow\\python\\ops\\math_ops.py:3066: to_int32 (from tensorflow.python.ops.math_ops) is deprecated and will be removed in a future version.\n",
      "Instructions for updating:\n",
      "Use tf.cast instead.\n",
      "Train on 20000 samples, validate on 5000 samples\n",
      "Epoch 1/25\n",
      "20000/20000 [==============================] - 14s 723us/step - loss: 0.4525 - binary_accuracy: 0.8103 - val_loss: 0.3629 - val_binary_accuracy: 0.8524\n",
      "Epoch 2/25\n",
      "20000/20000 [==============================] - 5s 275us/step - loss: 0.2589 - binary_accuracy: 0.9057 - val_loss: 0.2947 - val_binary_accuracy: 0.8844\n",
      "Epoch 3/25\n",
      "20000/20000 [==============================] - 5s 260us/step - loss: 0.1936 - binary_accuracy: 0.9299 - val_loss: 0.2705 - val_binary_accuracy: 0.8942\n",
      "Epoch 4/25\n",
      "20000/20000 [==============================] - 5s 262us/step - loss: 0.1558 - binary_accuracy: 0.9431 - val_loss: 0.2920 - val_binary_accuracy: 0.8870\n",
      "Epoch 5/25\n",
      "20000/20000 [==============================] - 5s 272us/step - loss: 0.1305 - binary_accuracy: 0.9522 - val_loss: 0.2970 - val_binary_accuracy: 0.8904\n",
      "Epoch 6/25\n",
      "20000/20000 [==============================] - 5s 260us/step - loss: 0.1052 - binary_accuracy: 0.9638 - val_loss: 0.3308 - val_binary_accuracy: 0.8842\n",
      "Epoch 7/25\n",
      "20000/20000 [==============================] - 6s 277us/step - loss: 0.0928 - binary_accuracy: 0.9687 - val_loss: 0.3505 - val_binary_accuracy: 0.8814\n",
      "Epoch 8/25\n",
      "20000/20000 [==============================] - 5s 255us/step - loss: 0.0666 - binary_accuracy: 0.9801 - val_loss: 0.4279 - val_binary_accuracy: 0.8674\n",
      "Epoch 9/25\n",
      "20000/20000 [==============================] - 6s 304us/step - loss: 0.0605 - binary_accuracy: 0.9808 - val_loss: 0.4731 - val_binary_accuracy: 0.8680\n",
      "Epoch 10/25\n",
      "20000/20000 [==============================] - 5s 270us/step - loss: 0.0479 - binary_accuracy: 0.9859 - val_loss: 0.4463 - val_binary_accuracy: 0.8742\n",
      "Epoch 11/25\n",
      "20000/20000 [==============================] - 5s 271us/step - loss: 0.0347 - binary_accuracy: 0.9913 - val_loss: 0.4817 - val_binary_accuracy: 0.8722\n",
      "Epoch 12/25\n",
      "20000/20000 [==============================] - 5s 255us/step - loss: 0.0282 - binary_accuracy: 0.9925 - val_loss: 0.6879 - val_binary_accuracy: 0.8502\n",
      "Epoch 13/25\n",
      "20000/20000 [==============================] - 5s 274us/step - loss: 0.0255 - binary_accuracy: 0.9931 - val_loss: 0.5624 - val_binary_accuracy: 0.8694\n",
      "Epoch 14/25\n",
      "20000/20000 [==============================] - 5s 260us/step - loss: 0.0191 - binary_accuracy: 0.9952 - val_loss: 0.5698 - val_binary_accuracy: 0.8752\n",
      "Epoch 15/25\n",
      "20000/20000 [==============================] - 6s 305us/step - loss: 0.0178 - binary_accuracy: 0.9954 - val_loss: 0.6111 - val_binary_accuracy: 0.8694\n",
      "Epoch 16/25\n",
      "20000/20000 [==============================] - 6s 284us/step - loss: 0.0131 - binary_accuracy: 0.9965 - val_loss: 0.6306 - val_binary_accuracy: 0.8688\n",
      "Epoch 17/25\n",
      "20000/20000 [==============================] - 5s 260us/step - loss: 0.0035 - binary_accuracy: 0.9998 - val_loss: 0.6789 - val_binary_accuracy: 0.8682\n",
      "Epoch 18/25\n",
      "20000/20000 [==============================] - 6s 284us/step - loss: 0.0112 - binary_accuracy: 0.9967 - val_loss: 0.7190 - val_binary_accuracy: 0.8672\n",
      "Epoch 19/25\n",
      "20000/20000 [==============================] - 5s 267us/step - loss: 0.0016 - binary_accuracy: 1.0000 - val_loss: 0.8004 - val_binary_accuracy: 0.8642\n",
      "Epoch 20/25\n",
      "20000/20000 [==============================] - 8s 395us/step - loss: 0.0115 - binary_accuracy: 0.9972 - val_loss: 0.7944 - val_binary_accuracy: 0.8664\n",
      "Epoch 21/25\n",
      "20000/20000 [==============================] - 6s 317us/step - loss: 7.6658e-04 - binary_accuracy: 1.0000 - val_loss: 0.8283 - val_binary_accuracy: 0.8668\n",
      "Epoch 22/25\n",
      "20000/20000 [==============================] - 5s 261us/step - loss: 0.0092 - binary_accuracy: 0.9970 - val_loss: 0.8616 - val_binary_accuracy: 0.8678\n",
      "Epoch 23/25\n",
      "20000/20000 [==============================] - 6s 314us/step - loss: 4.1693e-04 - binary_accuracy: 1.0000 - val_loss: 0.8822 - val_binary_accuracy: 0.8668\n",
      "Epoch 24/25\n",
      "20000/20000 [==============================] - 6s 278us/step - loss: 0.0014 - binary_accuracy: 0.9996 - val_loss: 0.9427 - val_binary_accuracy: 0.8640\n",
      "Epoch 25/25\n",
      "20000/20000 [==============================] - 6s 309us/step - loss: 2.6414e-04 - binary_accuracy: 1.0000 - val_loss: 0.9483 - val_binary_accuracy: 0.8662\n"
     ]
    }
   ],
   "source": [
    "from keras import optimizers\n",
    "from keras import losses\n",
    "from keras import metrics\n",
    "\n",
    "X_validation = x_train[:5000]\n",
    "X_train_without_val = x_train[5000:]\n",
    "y_validation = y_train[:5000]\n",
    "y_train_without_val = y_train[5000:]\n",
    "\n",
    "\n",
    "model.compile(optimizer=optimizers.RMSprop(lr=0.001, rho=0.9),\n",
    "             loss=losses.binary_crossentropy,\n",
    "             metrics=[metrics.binary_accuracy])\n",
    "\n",
    "history = model.fit(X_train_without_val,\n",
    "                    y_train_without_val,\n",
    "                    epochs=25,\n",
    "                    batch_size=512,\n",
    "                    validation_data=(X_validation,y_validation))\n"
   ]
  },
  {
   "cell_type": "code",
   "execution_count": 9,
   "metadata": {},
   "outputs": [
    {
     "data": {
      "image/png": "[encoded data removed]",
      "text/plain": [
       "<Figure size 432x288 with 1 Axes>"
      ]
     },
     "metadata": {
      "needs_background": "light"
     },
     "output_type": "display_data"
    }
   ],
   "source": [
    "import matplotlib.pyplot as plt\n",
    "\n",
    "history_dict = history.history\n",
    "loss_values = history_dict['loss']\n",
    "val_loss_values = history_dict['val_loss']\n",
    "\n",
    "epochs = range(1, 25 + 1)\n",
    "\n",
    "plt.plot(epochs, loss_values, 'g--', label='Training loss')\n",
    "plt.plot(epochs, val_loss_values, 'r', label='Validation loss')\n",
    "plt.title('Training and validation loss')\n",
    "plt.xlabel('Epochs')\n",
    "plt.ylabel('Loss')\n",
    "plt.legend()\n",
    "\n",
    "plt.show()\n"
   ]
  },
  {
   "cell_type": "code",
   "execution_count": 8,
   "metadata": {},
   "outputs": [
    {
     "data": {
      "image/png": "[encoded data removed]",
      "text/plain": [
       "<Figure size 432x288 with 1 Axes>"
      ]
     },
     "metadata": {
      "needs_background": "light"
     },
     "output_type": "display_data"
    }
   ],
   "source": [
    "plt.clf()\n",
    "acc_values = history_dict['binary_accuracy']\n",
    "val_acc_values = history_dict['val_binary_accuracy']\n",
    "plt.plot(epochs, acc_values, 'g--', label='Training Accuracy')\n",
    "plt.plot(epochs, val_acc_values, 'r', label='Validation Accuracy')\n",
    "plt.title('Training and validation accuracy')\n",
    "plt.xlabel('Epochs')\n",
    "plt.ylabel('Accuracy')\n",
    "plt.legend()\n",
    "plt.show()"
   ]
  },
  {
   "cell_type": "code",
   "execution_count": null,
   "metadata": {},
   "outputs": [],
   "source": []
  }
 ],
 "metadata": {
  "kernelspec": {
   "display_name": "Python 3",
   "language": "python",
   "name": "python3"
  },
  "language_info": {
   "codemirror_mode": {
    "name": "ipython",
    "version": 3
   },
   "file_extension": ".py",
   "mimetype": "text/x-python",
   "name": "python",
   "nbconvert_exporter": "python",
   "pygments_lexer": "ipython3",
   "version": "3.7.3"
  }
 },
 "nbformat": 4,
 "nbformat_minor": 2
}
